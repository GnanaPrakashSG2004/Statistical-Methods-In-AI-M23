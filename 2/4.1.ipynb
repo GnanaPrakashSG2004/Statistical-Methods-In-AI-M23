{
 "cells": [
  {
   "cell_type": "markdown",
   "metadata": {},
   "source": [
    "# Problem 4.1 - Image alignment using PCA"
   ]
  },
  {
   "cell_type": "code",
   "execution_count": 1,
   "metadata": {},
   "outputs": [],
   "source": [
    "import os\n",
    "import cv2 as cv\n",
    "import numpy as np\n",
    "from PIL import Image"
   ]
  },
  {
   "cell_type": "code",
   "execution_count": 2,
   "metadata": {},
   "outputs": [],
   "source": [
    "def rotation_angle(img_path):\n",
    "    image = cv.imread(img_path)\n",
    "    image_grayscale = cv.cvtColor(image, cv.COLOR_BGR2GRAY)\n",
    "    image_binary = cv.threshold(image_grayscale, 50, 255, cv.THRESH_BINARY + cv.THRESH_OTSU)[1]\n",
    "    image_contours = cv.findContours(image_binary, cv.RETR_LIST, cv.CHAIN_APPROX_NONE)[0]\n",
    "\n",
    "    area_threshold = 10000\n",
    "    largest_connected_area = 0\n",
    "    largest_contour = None\n",
    "    for contour in image_contours:\n",
    "        area = cv.contourArea(contour)\n",
    "        if area < area_threshold and area > largest_connected_area:\n",
    "            largest_connected_area = area\n",
    "            largest_contour = contour\n",
    "\n",
    "    ROI_coords = largest_contour[:, -1]\n",
    "    m_x = np.mean(ROI_coords, axis=0)\n",
    "    P_x = ((ROI_coords - m_x).T @ (ROI_coords - m_x)) / (ROI_coords.shape[0] - 1)\n",
    "\n",
    "    eigen_values, eigen_vectors = np.linalg.eig(P_x)\n",
    "    sortedIndices = np.argsort(eigen_values)[::-1]\n",
    "    eigen_values = eigen_values[sortedIndices]\n",
    "    eigen_vectors = eigen_vectors[:, sortedIndices]\n",
    "\n",
    "    theta = np.rad2deg(np.arctan2(eigen_vectors[1, 0], eigen_vectors[0, 0]))\n",
    "    if theta > 90:\n",
    "        theta = 180 - theta\n",
    "\n",
    "    return theta\n",
    "template_img_path = \"./Data/4.1/Template_Input.png\"\n",
    "template_img = Image.open(template_img_path)\n",
    "template_img_angle = rotation_angle(template_img_path)\n",
    "\n",
    "test_images_path = \"./Data/4.1/KIMIA-99/\"\n",
    "test_images_out_path = \"./Data/4.1/KIMIA-99-Aligned/\"\n",
    "test_images = os.listdir(test_images_path)\n",
    "\n",
    "for test_image in test_images:\n",
    "    test_image_path = os.path.join(test_images_path, test_image)\n",
    "    test_image_angle = rotation_angle(test_image_path) - template_img_angle\n",
    "\n",
    "    intial_test_image = Image.open(test_image_path)\n",
    "    rotated_test_image = intial_test_image.rotate(test_image_angle)\n",
    "    \n",
    "    rotated_test_image.save(os.path.join(test_images_out_path, test_image))"
   ]
  },
  {
   "cell_type": "markdown",
   "metadata": {},
   "source": [
    "<center><img src=\"./Data/4.1/Flowchart.png\" alt=\"Flowchart\" />"
   ]
  }
 ],
 "metadata": {
  "kernelspec": {
   "display_name": "Python 3",
   "language": "python",
   "name": "python3"
  },
  "language_info": {
   "codemirror_mode": {
    "name": "ipython",
    "version": 3
   },
   "file_extension": ".py",
   "mimetype": "text/x-python",
   "name": "python",
   "nbconvert_exporter": "python",
   "pygments_lexer": "ipython3",
   "version": "3.8.10"
  }
 },
 "nbformat": 4,
 "nbformat_minor": 2
}
